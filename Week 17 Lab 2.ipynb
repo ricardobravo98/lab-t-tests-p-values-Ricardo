{
 "cells": [
  {
   "cell_type": "code",
   "execution_count": 2,
   "id": "1c55ec47",
   "metadata": {},
   "outputs": [],
   "source": [
    "import math\n",
    "import pandas as pd\n",
    "import numpy as np\n",
    "import scipy.stats as stats\n",
    "from scipy.stats import ttest_ind, norm"
   ]
  },
  {
   "cell_type": "markdown",
   "id": "9bee34c8",
   "metadata": {},
   "source": [
    "### We will have another simple example on two sample t test (pooled- when the variances are equal). But this time this is a one sided t-test\n",
    "In a packing plant, a machine packs cartons with jars. It is supposed that a new machine will pack faster on the average than the machine currently used. To test that hypothesis, the times it takes each machine to pack ten cartons are recorded. The results, in seconds, are shown in the tables in the file files_for_lab/machine.txt. Assume that there is sufficient evidence to conduct the t test, does the data provide sufficient evidence to show if one machine is better than the other"
   ]
  },
  {
   "cell_type": "code",
   "execution_count": 3,
   "id": "9287a151",
   "metadata": {},
   "outputs": [],
   "source": [
    "new_machine=[42.1,41,41.3,41.8,42.4,42.8,43.2,42.3,41.8,42.7]\n",
    "old_machine=[42.7,43.6,43.8,43.3,42.5,43.5,43.1,41.7,44,44.1]"
   ]
  },
  {
   "cell_type": "markdown",
   "id": "64244f88",
   "metadata": {},
   "source": [
    "### Determine Values"
   ]
  },
  {
   "cell_type": "code",
   "execution_count": 6,
   "id": "eeb47044",
   "metadata": {},
   "outputs": [
    {
     "data": {
      "text/plain": [
       "(10, 42.14, 0.6483826030978941, 43.230000000000004, 0.7114070564732956)"
      ]
     },
     "execution_count": 6,
     "metadata": {},
     "output_type": "execute_result"
    }
   ],
   "source": [
    "len(new_machine), np.mean(new_machine), np.std(new_machine), np.mean(old_machine), np.std(old_machine)"
   ]
  },
  {
   "cell_type": "code",
   "execution_count": 7,
   "id": "c854970a",
   "metadata": {},
   "outputs": [],
   "source": [
    "n = len(new_machine)\n",
    "sample_mean = np.mean(new_machine)\n",
    "sample_st = np.std(new_machine)\n",
    "population_mean = np.mean(old_machine)\n",
    "population_st = np.std(old_machine)\n"
   ]
  },
  {
   "cell_type": "markdown",
   "id": "d8a3cb53",
   "metadata": {},
   "source": [
    "### First Step: Determine Hypothesis\n",
    "H0= current machine works as efficiently as the new one\n",
    "H1= The new machine is better in terms of efficiency than the new one"
   ]
  },
  {
   "cell_type": "markdown",
   "id": "74054047",
   "metadata": {},
   "source": [
    "### Second Step: Determine the type of test\n",
    "This is a one tailed test because we are measuring if the new machine is better, not different"
   ]
  },
  {
   "cell_type": "markdown",
   "id": "dded2afc",
   "metadata": {},
   "source": [
    "### Determine confidence interval\n",
    "I will use a confidence interval of 95%"
   ]
  },
  {
   "cell_type": "code",
   "execution_count": 10,
   "id": "8f0ff8d4",
   "metadata": {},
   "outputs": [],
   "source": [
    "alpha = 0.05"
   ]
  },
  {
   "cell_type": "markdown",
   "id": "5ccdc600",
   "metadata": {},
   "source": [
    "### Third Step: Measure and conclude\n"
   ]
  },
  {
   "cell_type": "code",
   "execution_count": 8,
   "id": "9294c97d",
   "metadata": {},
   "outputs": [
    {
     "data": {
      "text/plain": [
       "Ttest_indResult(statistic=-3.3972307061176026, pvalue=0.0032111425007745158)"
      ]
     },
     "execution_count": 8,
     "metadata": {},
     "output_type": "execute_result"
    }
   ],
   "source": [
    "ttest_ind(new_machine, old_machine)"
   ]
  }
 ],
 "metadata": {
  "kernelspec": {
   "display_name": "Python 3 (ipykernel)",
   "language": "python",
   "name": "python3"
  },
  "language_info": {
   "codemirror_mode": {
    "name": "ipython",
    "version": 3
   },
   "file_extension": ".py",
   "mimetype": "text/x-python",
   "name": "python",
   "nbconvert_exporter": "python",
   "pygments_lexer": "ipython3",
   "version": "3.10.9"
  }
 },
 "nbformat": 4,
 "nbformat_minor": 5
}
